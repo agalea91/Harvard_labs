{
 "cells": [
  {
   "cell_type": "code",
   "execution_count": 683,
   "metadata": {
    "collapsed": false
   },
   "outputs": [],
   "source": [
    "import sys\n",
    "sys.path.append('D:\\Programs\\Anaconda3\\Lib\\site-packages')\n",
    "\n",
    "import requests\n",
    "from bs4 import BeautifulSoup as bs\n",
    "from IPython.core.display import HTML\n",
    "import pandas as pd4\n",
    "import numpy as np\n",
    "#import matplotlib.pyplot as plt # even though we plot we don't need this package?? why not?? (pandas has it built in?)\n",
    "%matplotlib inline"
   ]
  },
  {
   "cell_type": "code",
   "execution_count": 129,
   "metadata": {
    "collapsed": false
   },
   "outputs": [
    {
     "name": "stdout",
     "output_type": "stream",
     "text": [
      "3\n",
      "2\n",
      "\n",
      "You have 3 groceries:\n",
      "apple\n",
      "banana\n",
      "chicken nuggets\n",
      "\n",
      "You have 3 groceries:\n",
      "apple : fruit\n",
      "chicken_nuggets : meat\n",
      "banana : fruit\n"
     ]
    }
   ],
   "source": [
    "\"\"\"short exercise on functions\"\"\"\n",
    "def f1(x, y=1):\n",
    "    return x+y\n",
    "\n",
    "print(f1(1,2))\n",
    "print(f1(1))\n",
    "print()\n",
    "\n",
    "def f2(itemtype, *items):\n",
    "    print(\"You have %d %s:\" %(len(items), itemtype))\n",
    "    for item in items:\n",
    "        print(item)\n",
    "\n",
    "f2(\"groceries\", \"apple\", \"banana\", \"chicken nuggets\")\n",
    "print()\n",
    "\n",
    "def f3(itemtype, **items):\n",
    "    print(\"You have %d %s:\" %(len(items), itemtype))\n",
    "    for item in items:\n",
    "        print(item, \":\", items[item])\n",
    "        \n",
    "f3(\"groceries\", apple=\"fruit\", banana=\"fruit\", chicken_nuggets=\"meat\")\n",
    "\n",
    "# note that order is important when combining these ideas:\n",
    "# e.g. def f4(itemtype, x=1, *itemtype1, **itemtype2):"
   ]
  },
  {
   "cell_type": "code",
   "execution_count": 8,
   "metadata": {
    "collapsed": false,
    "scrolled": true
   },
   "outputs": [
    {
     "data": {
      "text/plain": [
       "['__attrs__',\n",
       " '__bool__',\n",
       " '__class__',\n",
       " '__delattr__',\n",
       " '__dict__',\n",
       " '__dir__',\n",
       " '__doc__',\n",
       " '__eq__',\n",
       " '__format__',\n",
       " '__ge__',\n",
       " '__getattribute__',\n",
       " '__getstate__',\n",
       " '__gt__',\n",
       " '__hash__',\n",
       " '__init__',\n",
       " '__iter__',\n",
       " '__le__',\n",
       " '__lt__',\n",
       " '__module__',\n",
       " '__ne__',\n",
       " '__new__',\n",
       " '__nonzero__',\n",
       " '__reduce__',\n",
       " '__reduce_ex__',\n",
       " '__repr__',\n",
       " '__setattr__',\n",
       " '__setstate__',\n",
       " '__sizeof__',\n",
       " '__str__',\n",
       " '__subclasshook__',\n",
       " '__weakref__',\n",
       " '_content',\n",
       " '_content_consumed',\n",
       " 'apparent_encoding',\n",
       " 'close',\n",
       " 'connection',\n",
       " 'content',\n",
       " 'cookies',\n",
       " 'elapsed',\n",
       " 'encoding',\n",
       " 'headers',\n",
       " 'history',\n",
       " 'is_permanent_redirect',\n",
       " 'is_redirect',\n",
       " 'iter_content',\n",
       " 'iter_lines',\n",
       " 'json',\n",
       " 'links',\n",
       " 'ok',\n",
       " 'raise_for_status',\n",
       " 'raw',\n",
       " 'reason',\n",
       " 'request',\n",
       " 'status_code',\n",
       " 'text',\n",
       " 'url']"
      ]
     },
     "execution_count": 8,
     "metadata": {},
     "output_type": "execute_result"
    }
   ],
   "source": [
    "req = requests.get(\"https://en.wikipedia.org/wiki/List_of_NHL_statistical_leaders_by_country\")\n",
    "type(req)\n",
    "dir(req) # gives list of object properties where req is the object; entries with __ are not usually called directly"
   ]
  },
  {
   "cell_type": "code",
   "execution_count": 10,
   "metadata": {
    "collapsed": false
   },
   "outputs": [],
   "source": [
    "req.url\n",
    "page = req.text"
   ]
  },
  {
   "cell_type": "code",
   "execution_count": 18,
   "metadata": {
    "collapsed": true
   },
   "outputs": [],
   "source": [
    "soup = bs(page, 'html.parser')"
   ]
  },
  {
   "cell_type": "code",
   "execution_count": 459,
   "metadata": {
    "collapsed": false,
    "scrolled": true
   },
   "outputs": [
    {
     "data": {
      "text/plain": [
       "bs4.BeautifulSoup"
      ]
     },
     "execution_count": 459,
     "metadata": {},
     "output_type": "execute_result"
    }
   ],
   "source": [
    "type(soup) # this is a 'BeautifulSoup opject!\n",
    "#print(soup.prettify()) # to see the HTML indented"
   ]
  },
  {
   "cell_type": "code",
   "execution_count": 37,
   "metadata": {
    "collapsed": false
   },
   "outputs": [
    {
     "data": {
      "text/plain": [
       "<title>List of NHL statistical leaders by country - Wikipedia, the free encyclopedia</title>"
      ]
     },
     "execution_count": 37,
     "metadata": {},
     "output_type": "execute_result"
    }
   ],
   "source": [
    "\"\"\"can use dot notation (e.g., soup.___) to access elements as if they were properties of the object\"\"\"\n",
    "soup.title"
   ]
  },
  {
   "cell_type": "code",
   "execution_count": 499,
   "metadata": {
    "collapsed": false
   },
   "outputs": [
    {
     "data": {
      "text/plain": [
       "False"
      ]
     },
     "execution_count": 499,
     "metadata": {},
     "output_type": "execute_result"
    }
   ],
   "source": [
    "\"\"\"note that title is not a property of soup\"\"\"\n",
    "\"title\" in dir(soup)"
   ]
  },
  {
   "cell_type": "code",
   "execution_count": 500,
   "metadata": {
    "collapsed": false,
    "scrolled": true
   },
   "outputs": [
    {
     "data": {
      "text/plain": [
       "True"
      ]
     },
     "execution_count": 500,
     "metadata": {},
     "output_type": "execute_result"
    }
   ],
   "source": [
    "\"\"\"on the other hand, index is a property of soup apparently\"\"\"\n",
    "#print(soup.index)\n",
    "\"index\" in dir(soup)"
   ]
  },
  {
   "cell_type": "code",
   "execution_count": 130,
   "metadata": {
    "collapsed": false,
    "scrolled": true
   },
   "outputs": [
    {
     "name": "stdout",
     "output_type": "stream",
     "text": [
      "<p>This is a <b>list of National Hockey League statistical leaders by country of birth</b>, sorted by total points. The top ten players from each country are included. Statistics are current through the end of the <a href=\"/wiki/2014%E2%80%9315_NHL_season\" title=\"2014–15 NHL season\">2014–15 NHL season</a> and players currently playing in the <a href=\"/wiki/National_Hockey_League\" title=\"National Hockey League\">National Hockey League</a> are marked in <b>boldface</b>.</p>\n",
      "\n",
      "5\n",
      "\n",
      "<p>This is a <b>list of National Hockey League statistical leaders by country of birth</b>, sorted by total points. The top ten players from each country are included. Statistics are current through the end of the <a href=\"/wiki/2014%E2%80%9315_NHL_season\" title=\"2014–15 NHL season\">2014–15 NHL season</a> and players currently playing in the <a href=\"/wiki/National_Hockey_League\" title=\"National Hockey League\">National Hockey League</a> are marked in <b>boldface</b>.</p>\n",
      "\n",
      "[<p>This is a <b>list of National Hockey League statistical leaders by country of birth</b>, sorted by total points. The top ten players from each country are included. Statistics are current through the end of the <a href=\"/wiki/2014%E2%80%9315_NHL_season\" title=\"2014–15 NHL season\">2014–15 NHL season</a> and players currently playing in the <a href=\"/wiki/National_Hockey_League\" title=\"National Hockey League\">National Hockey League</a> are marked in <b>boldface</b>.</p>, <p>All players are listed by the current country of the players' birth location, regardless of their citizenship or where they were trained in hockey.</p>, <p><br/></p>, <p><a href=\"#Country\">Country</a></p>, <p><a href=\"#See_also\">See also</a><br/>\n",
      "<a href=\"#Notes\">Notes</a><br/>\n",
      "<a href=\"#External_links\">External links</a></p>]\n"
     ]
    }
   ],
   "source": [
    "print(soup.p) # printing the first p labeled element\n",
    "print()\n",
    "print(len(soup.find_all(\"p\"))) # the number of p labeled elements\n",
    "print()\n",
    "print(soup.find_all(\"p\")[0]) # the first one again\n",
    "print()\n",
    "print(soup.find_all(\"p\")) # all of them"
   ]
  },
  {
   "cell_type": "code",
   "execution_count": 70,
   "metadata": {
    "collapsed": false
   },
   "outputs": [
    {
     "data": {
      "text/plain": [
       "['toc']"
      ]
     },
     "execution_count": 70,
     "metadata": {},
     "output_type": "execute_result"
    }
   ],
   "source": [
    "\"\"\"it appears the tables I want do not show up with soup.table; only the table of contents at the top\"\"\"\n",
    "soup.table[\"class\"]"
   ]
  },
  {
   "cell_type": "code",
   "execution_count": 160,
   "metadata": {
    "collapsed": false,
    "scrolled": true
   },
   "outputs": [
    {
     "name": "stdout",
     "output_type": "stream",
     "text": [
      "type:\n",
      "<class 'bs4.element.Tag'>\n",
      "contents:\n",
      "<table cellpadding=\"3\" cellspacing=\"3\" id=\"Table3\" style=\"font-size:95%;\">\n",
      "<tr style=\"text-align:center; background:#e0e0e0\">\n",
      "<th style=\"width:3em;\">Rank</th>\n",
      "<th style=\"width:13em;\">Name</th>\n",
      "<th style=\"width:20em;\">Team(s)</th>\n",
      "<th style=\"width:3.3em;\">GP</th>\n",
      "<th style=\"width:3.3em;\">Pts</th>\n",
      "<th style=\"width:3.3em;\">PPG</th>\n",
      "</tr>\n",
      "<tr>\n",
      "<th>1</th>\n",
      "<td><a href=\"/wiki/Wayne_Gretzky\" title=\"Wayne Gretzky\">Wayne Gretzky</a></td>\n",
      "<td><a href=\"/wiki/Edmonton_Oilers\" title=\"Edmonton Oilers\">EDM</a>, <a href=\"/wiki/Los_Angeles_Kings\" title=\"Los Angeles Kings\">LAK</a>, <a href=\"/wiki/St._Louis_Blues\" title=\"St. Louis Blues\">STL</a>, <a href=\"/wiki/New_York_Rangers\" title=\"New York Rangers\">NYR</a></td>\n",
      "<td>1,487</td>\n",
      "<td>2,857</td>\n",
      "<td>1.92</td>\n",
      "</tr>\n",
      "<tr style=\"background:#f0f0f0;\">\n",
      "<th>2</th>\n",
      "<td><a href=\"/wiki/Mark_Messier\" title=\"Mark Messier\">Mark Messier</a></td>\n",
      "<td><a href=\"/wiki/Edmonton_Oilers\" title=\"Edmonton Oilers\">EDM</a>, <a href=\"/wiki/New_York_Rangers\" title=\"New York Rangers\">NYR</a>, <a href=\"/wiki/Vancouver_Canucks\" title=\"Vancouver Canucks\">VAN</a>, NYR</td>\n",
      "<td>1,756</td>\n",
      "<td>1,887</td>\n",
      "<td>1.07</td>\n",
      "</tr>\n",
      "<tr>\n",
      "<th>3</th>\n",
      "<td><a href=\"/wiki/Gordie_Howe\" title=\"Gordie Howe\">Gordie Howe</a></td>\n",
      "<td><a href=\"/wiki/Detroit_Red_Wings\" title=\"Detroit Red Wings\">DET</a>, <a href=\"/wiki/Hartford_Whalers\" title=\"Hartford Whalers\">HAR</a></td>\n",
      "<td>1,767</td>\n",
      "<td>1,850</td>\n",
      "<td>1.05</td>\n",
      "</tr>\n",
      "<tr style=\"background:#f0f0f0;\">\n",
      "<th>4</th>\n",
      "<td><a href=\"/wiki/Ron_Francis\" title=\"Ron Francis\">Ron Francis</a></td>\n",
      "<td><a href=\"/wiki/Hartford_Whalers\" title=\"Hartford Whalers\">HAR</a>, <a href=\"/wiki/Pittsburgh_Penguins\" title=\"Pittsburgh Penguins\">PIT</a>, <a href=\"/wiki/Carolina_Hurricanes\" title=\"Carolina Hurricanes\">CAR</a>, <a href=\"/wiki/Toronto_Maple_Leafs\" title=\"Toronto Maple Leafs\">TOR</a></td>\n",
      "<td>1,731</td>\n",
      "<td>1,798</td>\n",
      "<td>1.04</td>\n",
      "</tr>\n",
      "<tr>\n",
      "<th>5</th>\n",
      "<td><a href=\"/wiki/Marcel_Dionne\" title=\"Marcel Dionne\">Marcel Dionne</a></td>\n",
      "<td><a href=\"/wiki/Detroit_Red_Wings\" title=\"Detroit Red Wings\">DET</a>, <a href=\"/wiki/Los_Angeles_Kings\" title=\"Los Angeles Kings\">LAK</a>, <a href=\"/wiki/New_York_Rangers\" title=\"New York Rangers\">NYR</a></td>\n",
      "<td>1,348</td>\n",
      "<td>1,771</td>\n",
      "<td>1.31</td>\n",
      "</tr>\n",
      "<tr style=\"background:#f0f0f0;\">\n",
      "<th>6</th>\n",
      "<td><a href=\"/wiki/Steve_Yzerman\" title=\"Steve Yzerman\">Steve Yzerman</a></td>\n",
      "<td><a href=\"/wiki/Detroit_Red_Wings\" title=\"Detroit Red Wings\">DET</a></td>\n",
      "<td>1,514</td>\n",
      "<td>1,755</td>\n",
      "<td>1.16</td>\n",
      "</tr>\n",
      "<tr>\n",
      "<th>7</th>\n",
      "<td><a href=\"/wiki/Mario_Lemieux\" title=\"Mario Lemieux\">Mario Lemieux</a></td>\n",
      "<td><a href=\"/wiki/Pittsburgh_Penguins\" title=\"Pittsburgh Penguins\">PIT</a></td>\n",
      "<td>915</td>\n",
      "<td>1,723</td>\n",
      "<td>1.88</td>\n",
      "</tr>\n",
      "<tr style=\"background:#f0f0f0;\">\n",
      "<th>8</th>\n",
      "<td><a href=\"/wiki/Joe_Sakic\" title=\"Joe Sakic\">Joe Sakic</a></td>\n",
      "<td><a href=\"/wiki/Quebec_Nordiques\" title=\"Quebec Nordiques\">QUE</a>, <a href=\"/wiki/Colorado_Avalanche\" title=\"Colorado Avalanche\">COL</a></td>\n",
      "<td>1,378</td>\n",
      "<td>1,641</td>\n",
      "<td>1.19</td>\n",
      "</tr>\n",
      "<tr>\n",
      "<th>9</th>\n",
      "<td><a href=\"/wiki/Phil_Esposito\" title=\"Phil Esposito\">Phil Esposito</a></td>\n",
      "<td><a href=\"/wiki/Chicago_Blackhawks\" title=\"Chicago Blackhawks\">CHI</a>, <a href=\"/wiki/Boston_Bruins\" title=\"Boston Bruins\">BOS</a>, <a href=\"/wiki/New_York_Rangers\" title=\"New York Rangers\">NYR</a></td>\n",
      "<td>1,282</td>\n",
      "<td>1,590</td>\n",
      "<td>1.24</td>\n",
      "</tr>\n",
      "<tr style=\"background:#f0f0f0;\">\n",
      "<th>10</th>\n",
      "<td><a href=\"/wiki/Ray_Bourque\" title=\"Ray Bourque\">Ray Bourque</a> (D)</td>\n",
      "<td><a href=\"/wiki/Boston_Bruins\" title=\"Boston Bruins\">BOS</a>, <a href=\"/wiki/Colorado_Avalanche\" title=\"Colorado Avalanche\">COL</a></td>\n",
      "<td>1,612</td>\n",
      "<td>1,579</td>\n",
      "<td>0.98</td>\n",
      "</tr>\n",
      "</table>\n"
     ]
    }
   ],
   "source": [
    "canadians = soup.find_all(\"table\")[2] # this is the canadian player table I want\n",
    "print(\"type:\")\n",
    "print(type(canadians))\n",
    "print(\"contents:\")\n",
    "print(canadians)"
   ]
  },
  {
   "cell_type": "code",
   "execution_count": 74,
   "metadata": {
    "collapsed": false
   },
   "outputs": [
    {
     "data": {
      "text/plain": [
       "[['toc'],\n",
       " ['navbox'],\n",
       " ['nowraplinks', 'collapsible', 'autocollapse', 'navbox-inner']]"
      ]
     },
     "execution_count": 74,
     "metadata": {},
     "output_type": "execute_result"
    }
   ],
   "source": [
    "[t[\"class\"] for t in soup.find_all(\"table\") if t.get(\"class\")]"
   ]
  },
  {
   "cell_type": "code",
   "execution_count": 83,
   "metadata": {
    "collapsed": false
   },
   "outputs": [
    {
     "name": "stdout",
     "output_type": "stream",
     "text": [
      "None\n"
     ]
    }
   ],
   "source": [
    "print(canadians.get(\"class\")) # it seems the tables I want have no class :("
   ]
  },
  {
   "cell_type": "code",
   "execution_count": 96,
   "metadata": {
    "collapsed": false
   },
   "outputs": [
    {
     "data": {
      "text/html": [
       "<table cellpadding=\"3\" cellspacing=\"3\" id=\"Table3\" style=\"font-size:95%;\">\n",
       "<tr style=\"text-align:center; background:#e0e0e0\">\n",
       "<th style=\"width:3em;\">Rank</th>\n",
       "<th style=\"width:13em;\">Name</th>\n",
       "<th style=\"width:20em;\">Team(s)</th>\n",
       "<th style=\"width:3.3em;\">GP</th>\n",
       "<th style=\"width:3.3em;\">Pts</th>\n",
       "<th style=\"width:3.3em;\">PPG</th>\n",
       "</tr>\n",
       "<tr>\n",
       "<th>1</th>\n",
       "<td><a href=\"/wiki/Wayne_Gretzky\" title=\"Wayne Gretzky\">Wayne Gretzky</a></td>\n",
       "<td><a href=\"/wiki/Edmonton_Oilers\" title=\"Edmonton Oilers\">EDM</a>, <a href=\"/wiki/Los_Angeles_Kings\" title=\"Los Angeles Kings\">LAK</a>, <a href=\"/wiki/St._Louis_Blues\" title=\"St. Louis Blues\">STL</a>, <a href=\"/wiki/New_York_Rangers\" title=\"New York Rangers\">NYR</a></td>\n",
       "<td>1,487</td>\n",
       "<td>2,857</td>\n",
       "<td>1.92</td>\n",
       "</tr>\n",
       "<tr style=\"background:#f0f0f0;\">\n",
       "<th>2</th>\n",
       "<td><a href=\"/wiki/Mark_Messier\" title=\"Mark Messier\">Mark Messier</a></td>\n",
       "<td><a href=\"/wiki/Edmonton_Oilers\" title=\"Edmonton Oilers\">EDM</a>, <a href=\"/wiki/New_York_Rangers\" title=\"New York Rangers\">NYR</a>, <a href=\"/wiki/Vancouver_Canucks\" title=\"Vancouver Canucks\">VAN</a>, NYR</td>\n",
       "<td>1,756</td>\n",
       "<td>1,887</td>\n",
       "<td>1.07</td>\n",
       "</tr>\n",
       "<tr>\n",
       "<th>3</th>\n",
       "<td><a href=\"/wiki/Gordie_Howe\" title=\"Gordie Howe\">Gordie Howe</a></td>\n",
       "<td><a href=\"/wiki/Detroit_Red_Wings\" title=\"Detroit Red Wings\">DET</a>, <a href=\"/wiki/Hartford_Whalers\" title=\"Hartford Whalers\">HAR</a></td>\n",
       "<td>1,767</td>\n",
       "<td>1,850</td>\n",
       "<td>1.05</td>\n",
       "</tr>\n",
       "<tr style=\"background:#f0f0f0;\">\n",
       "<th>4</th>\n",
       "<td><a href=\"/wiki/Ron_Francis\" title=\"Ron Francis\">Ron Francis</a></td>\n",
       "<td><a href=\"/wiki/Hartford_Whalers\" title=\"Hartford Whalers\">HAR</a>, <a href=\"/wiki/Pittsburgh_Penguins\" title=\"Pittsburgh Penguins\">PIT</a>, <a href=\"/wiki/Carolina_Hurricanes\" title=\"Carolina Hurricanes\">CAR</a>, <a href=\"/wiki/Toronto_Maple_Leafs\" title=\"Toronto Maple Leafs\">TOR</a></td>\n",
       "<td>1,731</td>\n",
       "<td>1,798</td>\n",
       "<td>1.04</td>\n",
       "</tr>\n",
       "<tr>\n",
       "<th>5</th>\n",
       "<td><a href=\"/wiki/Marcel_Dionne\" title=\"Marcel Dionne\">Marcel Dionne</a></td>\n",
       "<td><a href=\"/wiki/Detroit_Red_Wings\" title=\"Detroit Red Wings\">DET</a>, <a href=\"/wiki/Los_Angeles_Kings\" title=\"Los Angeles Kings\">LAK</a>, <a href=\"/wiki/New_York_Rangers\" title=\"New York Rangers\">NYR</a></td>\n",
       "<td>1,348</td>\n",
       "<td>1,771</td>\n",
       "<td>1.31</td>\n",
       "</tr>\n",
       "<tr style=\"background:#f0f0f0;\">\n",
       "<th>6</th>\n",
       "<td><a href=\"/wiki/Steve_Yzerman\" title=\"Steve Yzerman\">Steve Yzerman</a></td>\n",
       "<td><a href=\"/wiki/Detroit_Red_Wings\" title=\"Detroit Red Wings\">DET</a></td>\n",
       "<td>1,514</td>\n",
       "<td>1,755</td>\n",
       "<td>1.16</td>\n",
       "</tr>\n",
       "<tr>\n",
       "<th>7</th>\n",
       "<td><a href=\"/wiki/Mario_Lemieux\" title=\"Mario Lemieux\">Mario Lemieux</a></td>\n",
       "<td><a href=\"/wiki/Pittsburgh_Penguins\" title=\"Pittsburgh Penguins\">PIT</a></td>\n",
       "<td>915</td>\n",
       "<td>1,723</td>\n",
       "<td>1.88</td>\n",
       "</tr>\n",
       "<tr style=\"background:#f0f0f0;\">\n",
       "<th>8</th>\n",
       "<td><a href=\"/wiki/Joe_Sakic\" title=\"Joe Sakic\">Joe Sakic</a></td>\n",
       "<td><a href=\"/wiki/Quebec_Nordiques\" title=\"Quebec Nordiques\">QUE</a>, <a href=\"/wiki/Colorado_Avalanche\" title=\"Colorado Avalanche\">COL</a></td>\n",
       "<td>1,378</td>\n",
       "<td>1,641</td>\n",
       "<td>1.19</td>\n",
       "</tr>\n",
       "<tr>\n",
       "<th>9</th>\n",
       "<td><a href=\"/wiki/Phil_Esposito\" title=\"Phil Esposito\">Phil Esposito</a></td>\n",
       "<td><a href=\"/wiki/Chicago_Blackhawks\" title=\"Chicago Blackhawks\">CHI</a>, <a href=\"/wiki/Boston_Bruins\" title=\"Boston Bruins\">BOS</a>, <a href=\"/wiki/New_York_Rangers\" title=\"New York Rangers\">NYR</a></td>\n",
       "<td>1,282</td>\n",
       "<td>1,590</td>\n",
       "<td>1.24</td>\n",
       "</tr>\n",
       "<tr style=\"background:#f0f0f0;\">\n",
       "<th>10</th>\n",
       "<td><a href=\"/wiki/Ray_Bourque\" title=\"Ray Bourque\">Ray Bourque</a> (D)</td>\n",
       "<td><a href=\"/wiki/Boston_Bruins\" title=\"Boston Bruins\">BOS</a>, <a href=\"/wiki/Colorado_Avalanche\" title=\"Colorado Avalanche\">COL</a></td>\n",
       "<td>1,612</td>\n",
       "<td>1,579</td>\n",
       "<td>0.98</td>\n",
       "</tr>\n",
       "</table>"
      ],
      "text/plain": [
       "<IPython.core.display.HTML object>"
      ]
     },
     "execution_count": 96,
     "metadata": {},
     "output_type": "execute_result"
    }
   ],
   "source": [
    "canadians_str = str(canadians)\n",
    "HTML(canadians_str)"
   ]
  },
  {
   "cell_type": "code",
   "execution_count": 164,
   "metadata": {
    "collapsed": false,
    "scrolled": true
   },
   "outputs": [
    {
     "name": "stdout",
     "output_type": "stream",
     "text": [
      "['Rank', 'Name', 'Team(s)', 'GP', 'Pts', 'PPG']\n",
      "[<td><a href=\"/wiki/Wayne_Gretzky\" title=\"Wayne Gretzky\">Wayne Gretzky</a></td>, <td><a href=\"/wiki/Edmonton_Oilers\" title=\"Edmonton Oilers\">EDM</a>, <a href=\"/wiki/Los_Angeles_Kings\" title=\"Los Angeles Kings\">LAK</a>, <a href=\"/wiki/St._Louis_Blues\" title=\"St. Louis Blues\">STL</a>, <a href=\"/wiki/New_York_Rangers\" title=\"New York Rangers\">NYR</a></td>, <td>1,487</td>, <td>2,857</td>, <td>1.92</td>]\n"
     ]
    }
   ],
   "source": [
    "rows = [row for row in canadians.find_all(\"tr\")]\n",
    "headers = rows[0].get_text().splitlines()\n",
    "headers = headers[1:]\n",
    "print(headers)\n",
    "type(rows)\n",
    "print(rows[1].find_all(\"td\"))"
   ]
  },
  {
   "cell_type": "code",
   "execution_count": 149,
   "metadata": {
    "collapsed": true
   },
   "outputs": [],
   "source": [
    "remove_nl = lambda s: s.replace(\"\\n\", \" \") # a lambda to remove all new line characters and insert spaces\n",
    "replace_comma = lambda s: s.replace(\",\",\"\") # this one replaces commas with blank space"
   ]
  },
  {
   "cell_type": "code",
   "execution_count": 449,
   "metadata": {
    "collapsed": false,
    "scrolled": false
   },
   "outputs": [
    {
     "name": "stdout",
     "output_type": "stream",
     "text": [
      "['Wayne Gretzky', 'EDM, LAK, STL, NYR', '1,487', '2,857', '1.92', 'Mark Messier', 'EDM, NYR, VAN, NYR', '1,756', '1,887', '1.07', 'Gordie Howe', 'DET, HAR', '1,767', '1,850', '1.05', 'Ron Francis', 'HAR, PIT, CAR, TOR', '1,731', '1,798', '1.04', 'Marcel Dionne', 'DET, LAK, NYR', '1,348', '1,771', '1.31', 'Steve Yzerman', 'DET', '1,514', '1,755', '1.16', 'Mario Lemieux', 'PIT', '915', '1,723', '1.88', 'Joe Sakic', 'QUE, COL', '1,378', '1,641', '1.19', 'Phil Esposito', 'CHI, BOS, NYR', '1,282', '1,590', '1.24', 'Ray Bourque (D)', 'BOS, COL', '1,612', '1,579', '0.98']\n",
      "\n",
      "[['EDM, LAK, STL, NYR', 'EDM, NYR, VAN, NYR', 'DET, HAR', 'HAR, PIT, CAR, TOR', 'DET, LAK, NYR', 'DET', 'PIT', 'QUE, COL', 'CHI, BOS, NYR', 'BOS, COL'], ['1,487', '1,756', '1,767', '1,731', '1,348', '1,514', '915', '1,378', '1,282', '1,612'], ['2,857', '1,887', '1,850', '1,798', '1,771', '1,755', '1,723', '1,641', '1,590', '1,579'], ['1.92', '1.07', '1.05', '1.04', '1.31', '1.16', '1.88', '1.19', '1.24', '0.98']]\n",
      "\n",
      "['Wayne Gretzky', 'Mark Messier', 'Gordie Howe', 'Ron Francis', 'Marcel Dionne', 'Steve Yzerman', 'Mario Lemieux', 'Joe Sakic', 'Phil Esposito', 'Ray Bourque (D)']\n",
      "\n",
      "[[1, 2, 3, 4, 5, 6, 7, 8, 9, 10]]\n",
      "\n",
      "[(1, 'EDM, LAK, STL, NYR', 1487, 2857, 1.92), (2, 'EDM, NYR, VAN, NYR', 1756, 1887, 1.07), (3, 'DET, HAR', 1767, 1850, 1.05), (4, 'HAR, PIT, CAR, TOR', 1731, 1798, 1.04), (5, 'DET, LAK, NYR', 1348, 1771, 1.31), (6, 'DET', 1514, 1755, 1.16), (7, 'PIT', 915, 1723, 1.88), (8, 'QUE, COL', 1378, 1641, 1.19), (9, 'CHI, BOS, NYR', 1282, 1590, 1.24), (10, 'BOS, COL', 1612, 1579, 0.98)]\n",
      "\n",
      "[(1, 'Wayne Gretzky', 'EDM, LAK, STL, NYR', 1487, 2857, 1.92), (2, 'Mark Messier', 'EDM, NYR, VAN, NYR', 1756, 1887, 1.07), (3, 'Gordie Howe', 'DET, HAR', 1767, 1850, 1.05), (4, 'Ron Francis', 'HAR, PIT, CAR, TOR', 1731, 1798, 1.04), (5, 'Marcel Dionne', 'DET, LAK, NYR', 1348, 1771, 1.31), (6, 'Steve Yzerman', 'DET', 1514, 1755, 1.16), (7, 'Mario Lemieux', 'PIT', 915, 1723, 1.88), (8, 'Joe Sakic', 'QUE, COL', 1378, 1641, 1.19), (9, 'Phil Esposito', 'CHI, BOS, NYR', 1282, 1590, 1.24), (10, 'Ray Bourque (D)', 'BOS, COL', 1612, 1579, 0.98)]\n"
     ]
    }
   ],
   "source": [
    "items = [value.get_text() for row in rows for value in row.find_all(\"td\")]\n",
    "print(items)\n",
    "print()\n",
    "print([items[i::5] for i in range(1,len(headers)-1)]) # sorting by header\n",
    "print()\n",
    "\n",
    "players = items[0::5]\n",
    "print(players)\n",
    "print()\n",
    "\n",
    "ranks = [[i+1 for i in range(0,len(players))]] #re-introducting rank information\n",
    "print(ranks)\n",
    "print()\n",
    "\n",
    "values1 = ranks+[items[i::5] for i in range(1,len(headers)-1)]\n",
    "for j in range(2,4):\n",
    "    for i in range(0,len(players)):\n",
    "        values1[j][i] = int(replace_comma(values1[j][i]))\n",
    "for i in range(0,len(players)):\n",
    "    values1[4][i] = float(values1[4][i])\n",
    "        \n",
    "stacked_items_nonames = list(zip(*values1)) # type(zip(a))!=list in python3)\n",
    "print(stacked_items_nonames)\n",
    "print()\n",
    "\n",
    "values2 = ranks+[items[i::5] for i in range(0,len(headers)-1)]\n",
    "for j in range(3,5):\n",
    "    for i in range(0,len(players)):\n",
    "        values2[j][i] = int(replace_comma(values2[j][i]))\n",
    "for i in range(0,len(players)):\n",
    "    values2[5][i] = float(values2[5][i])\n",
    "        \n",
    "stacked_items_names = list(zip(*values2))\n",
    "print(stacked_items_names)"
   ]
  },
  {
   "cell_type": "code",
   "execution_count": 210,
   "metadata": {
    "collapsed": false
   },
   "outputs": [
    {
     "name": "stdout",
     "output_type": "stream",
     "text": [
      "apples are 5.4903\n"
     ]
    }
   ],
   "source": [
    "\"\"\"another example using the astrix to 'explode' lsits\"\"\"\n",
    "stuffs = ['apples', 'are', 5.49030]\n",
    "print(*stuffs)"
   ]
  },
  {
   "cell_type": "code",
   "execution_count": 273,
   "metadata": {
    "collapsed": false
   },
   "outputs": [
    {
     "data": {
      "text/plain": [
       "{'Gordie Howe': (3, 'DET, HAR', 1767, 1850, 1.05),\n",
       " 'Joe Sakic': (8, 'QUE, COL', 1378, 1641, 1.19),\n",
       " 'Marcel Dionne': (5, 'DET, LAK, NYR', 1348, 1771, 1.31),\n",
       " 'Mario Lemieux': (7, 'PIT', 915, 1723, 1.88),\n",
       " 'Mark Messier': (2, 'EDM, NYR, VAN, NYR', 1756, 1887, 1.07),\n",
       " 'Phil Esposito': (9, 'CHI, BOS, NYR', 1282, 1590, 1.24),\n",
       " 'Ray Bourque (D)': (10, 'BOS, COL', 1612, 1579, 0.98),\n",
       " 'Ron Francis': (4, 'HAR, PIT, CAR, TOR', 1731, 1798, 1.04),\n",
       " 'Steve Yzerman': (6, 'DET', 1514, 1755, 1.16),\n",
       " 'Wayne Gretzky': (1, 'EDM, LAK, STL, NYR', 1487, 2857, 1.92)}"
      ]
     },
     "execution_count": 273,
     "metadata": {},
     "output_type": "execute_result"
    }
   ],
   "source": [
    "{key: value for key, value in zip(players, stacked_items_nonames)} # making a dictionary with comprehension"
   ]
  },
  {
   "cell_type": "code",
   "execution_count": 280,
   "metadata": {
    "collapsed": false,
    "scrolled": true
   },
   "outputs": [
    {
     "data": {
      "text/plain": [
       "[{'GP': 1487,\n",
       "  'Name': 'Wayne Gretzky',\n",
       "  'PPG': 1.92,\n",
       "  'Pts': 2857,\n",
       "  'Rank': 1,\n",
       "  'Team(s)': 'EDM, LAK, STL, NYR'},\n",
       " {'GP': 1756,\n",
       "  'Name': 'Mark Messier',\n",
       "  'PPG': 1.07,\n",
       "  'Pts': 1887,\n",
       "  'Rank': 2,\n",
       "  'Team(s)': 'EDM, NYR, VAN, NYR'},\n",
       " {'GP': 1767,\n",
       "  'Name': 'Gordie Howe',\n",
       "  'PPG': 1.05,\n",
       "  'Pts': 1850,\n",
       "  'Rank': 3,\n",
       "  'Team(s)': 'DET, HAR'},\n",
       " {'GP': 1731,\n",
       "  'Name': 'Ron Francis',\n",
       "  'PPG': 1.04,\n",
       "  'Pts': 1798,\n",
       "  'Rank': 4,\n",
       "  'Team(s)': 'HAR, PIT, CAR, TOR'},\n",
       " {'GP': 1348,\n",
       "  'Name': 'Marcel Dionne',\n",
       "  'PPG': 1.31,\n",
       "  'Pts': 1771,\n",
       "  'Rank': 5,\n",
       "  'Team(s)': 'DET, LAK, NYR'},\n",
       " {'GP': 1514,\n",
       "  'Name': 'Steve Yzerman',\n",
       "  'PPG': 1.16,\n",
       "  'Pts': 1755,\n",
       "  'Rank': 6,\n",
       "  'Team(s)': 'DET'},\n",
       " {'GP': 915,\n",
       "  'Name': 'Mario Lemieux',\n",
       "  'PPG': 1.88,\n",
       "  'Pts': 1723,\n",
       "  'Rank': 7,\n",
       "  'Team(s)': 'PIT'},\n",
       " {'GP': 1378,\n",
       "  'Name': 'Joe Sakic',\n",
       "  'PPG': 1.19,\n",
       "  'Pts': 1641,\n",
       "  'Rank': 8,\n",
       "  'Team(s)': 'QUE, COL'},\n",
       " {'GP': 1282,\n",
       "  'Name': 'Phil Esposito',\n",
       "  'PPG': 1.24,\n",
       "  'Pts': 1590,\n",
       "  'Rank': 9,\n",
       "  'Team(s)': 'CHI, BOS, NYR'},\n",
       " {'GP': 1612,\n",
       "  'Name': 'Ray Bourque (D)',\n",
       "  'PPG': 0.98,\n",
       "  'Pts': 1579,\n",
       "  'Rank': 10,\n",
       "  'Team(s)': 'BOS, COL'}]"
      ]
     },
     "execution_count": 280,
     "metadata": {},
     "output_type": "execute_result"
    }
   ],
   "source": [
    "\"\"\"making a dataframe a couple different ways\"\"\"\n",
    "data_dict = [{key: val for key, val in zip(headers, row)} for row in stacked_items_names] # a comprehension list of dictionaries\n",
    "data_dict"
   ]
  },
  {
   "cell_type": "code",
   "execution_count": 309,
   "metadata": {
    "collapsed": false,
    "scrolled": true
   },
   "outputs": [
    {
     "data": {
      "text/html": [
       "<div>\n",
       "<table border=\"1\" class=\"dataframe\">\n",
       "  <thead>\n",
       "    <tr style=\"text-align: right;\">\n",
       "      <th></th>\n",
       "      <th>GP</th>\n",
       "      <th>Name</th>\n",
       "      <th>PPG</th>\n",
       "      <th>Pts</th>\n",
       "      <th>Rank</th>\n",
       "      <th>Team(s)</th>\n",
       "    </tr>\n",
       "  </thead>\n",
       "  <tbody>\n",
       "    <tr>\n",
       "      <th>1</th>\n",
       "      <td>1487</td>\n",
       "      <td>Wayne Gretzky</td>\n",
       "      <td>1.92</td>\n",
       "      <td>2857</td>\n",
       "      <td>1</td>\n",
       "      <td>EDM, LAK, STL, NYR</td>\n",
       "    </tr>\n",
       "    <tr>\n",
       "      <th>2</th>\n",
       "      <td>1756</td>\n",
       "      <td>Mark Messier</td>\n",
       "      <td>1.07</td>\n",
       "      <td>1887</td>\n",
       "      <td>2</td>\n",
       "      <td>EDM, NYR, VAN, NYR</td>\n",
       "    </tr>\n",
       "    <tr>\n",
       "      <th>3</th>\n",
       "      <td>1767</td>\n",
       "      <td>Gordie Howe</td>\n",
       "      <td>1.05</td>\n",
       "      <td>1850</td>\n",
       "      <td>3</td>\n",
       "      <td>DET, HAR</td>\n",
       "    </tr>\n",
       "    <tr>\n",
       "      <th>4</th>\n",
       "      <td>1731</td>\n",
       "      <td>Ron Francis</td>\n",
       "      <td>1.04</td>\n",
       "      <td>1798</td>\n",
       "      <td>4</td>\n",
       "      <td>HAR, PIT, CAR, TOR</td>\n",
       "    </tr>\n",
       "    <tr>\n",
       "      <th>5</th>\n",
       "      <td>1348</td>\n",
       "      <td>Marcel Dionne</td>\n",
       "      <td>1.31</td>\n",
       "      <td>1771</td>\n",
       "      <td>5</td>\n",
       "      <td>DET, LAK, NYR</td>\n",
       "    </tr>\n",
       "    <tr>\n",
       "      <th>6</th>\n",
       "      <td>1514</td>\n",
       "      <td>Steve Yzerman</td>\n",
       "      <td>1.16</td>\n",
       "      <td>1755</td>\n",
       "      <td>6</td>\n",
       "      <td>DET</td>\n",
       "    </tr>\n",
       "    <tr>\n",
       "      <th>7</th>\n",
       "      <td>915</td>\n",
       "      <td>Mario Lemieux</td>\n",
       "      <td>1.88</td>\n",
       "      <td>1723</td>\n",
       "      <td>7</td>\n",
       "      <td>PIT</td>\n",
       "    </tr>\n",
       "    <tr>\n",
       "      <th>8</th>\n",
       "      <td>1378</td>\n",
       "      <td>Joe Sakic</td>\n",
       "      <td>1.19</td>\n",
       "      <td>1641</td>\n",
       "      <td>8</td>\n",
       "      <td>QUE, COL</td>\n",
       "    </tr>\n",
       "    <tr>\n",
       "      <th>9</th>\n",
       "      <td>1282</td>\n",
       "      <td>Phil Esposito</td>\n",
       "      <td>1.24</td>\n",
       "      <td>1590</td>\n",
       "      <td>9</td>\n",
       "      <td>CHI, BOS, NYR</td>\n",
       "    </tr>\n",
       "    <tr>\n",
       "      <th>10</th>\n",
       "      <td>1612</td>\n",
       "      <td>Ray Bourque (D)</td>\n",
       "      <td>0.98</td>\n",
       "      <td>1579</td>\n",
       "      <td>10</td>\n",
       "      <td>BOS, COL</td>\n",
       "    </tr>\n",
       "  </tbody>\n",
       "</table>\n",
       "</div>"
      ],
      "text/plain": [
       "      GP             Name   PPG   Pts  Rank             Team(s)\n",
       "1   1487    Wayne Gretzky  1.92  2857     1  EDM, LAK, STL, NYR\n",
       "2   1756     Mark Messier  1.07  1887     2  EDM, NYR, VAN, NYR\n",
       "3   1767      Gordie Howe  1.05  1850     3            DET, HAR\n",
       "4   1731      Ron Francis  1.04  1798     4  HAR, PIT, CAR, TOR\n",
       "5   1348    Marcel Dionne  1.31  1771     5       DET, LAK, NYR\n",
       "6   1514    Steve Yzerman  1.16  1755     6                 DET\n",
       "7    915    Mario Lemieux  1.88  1723     7                 PIT\n",
       "8   1378        Joe Sakic  1.19  1641     8            QUE, COL\n",
       "9   1282    Phil Esposito  1.24  1590     9       CHI, BOS, NYR\n",
       "10  1612  Ray Bourque (D)  0.98  1579    10            BOS, COL"
      ]
     },
     "execution_count": 309,
     "metadata": {},
     "output_type": "execute_result"
    }
   ],
   "source": [
    "pd.DataFrame(data_dict, index=ranks) # feed pandas the list of dictionaries\n",
    "# note that feeding in index=ranks is not necessary"
   ]
  },
  {
   "cell_type": "code",
   "execution_count": 451,
   "metadata": {
    "collapsed": false
   },
   "outputs": [
    {
     "data": {
      "text/html": [
       "<div>\n",
       "<table border=\"1\" class=\"dataframe\">\n",
       "  <thead>\n",
       "    <tr style=\"text-align: right;\">\n",
       "      <th></th>\n",
       "      <th>Rank</th>\n",
       "      <th>Name</th>\n",
       "      <th>Team(s)</th>\n",
       "      <th>GP</th>\n",
       "      <th>Pts</th>\n",
       "      <th>PPG</th>\n",
       "    </tr>\n",
       "  </thead>\n",
       "  <tbody>\n",
       "    <tr>\n",
       "      <th>1</th>\n",
       "      <td>1</td>\n",
       "      <td>Wayne Gretzky</td>\n",
       "      <td>EDM, LAK, STL, NYR</td>\n",
       "      <td>1487</td>\n",
       "      <td>2857</td>\n",
       "      <td>1.92</td>\n",
       "    </tr>\n",
       "    <tr>\n",
       "      <th>2</th>\n",
       "      <td>2</td>\n",
       "      <td>Mark Messier</td>\n",
       "      <td>EDM, NYR, VAN, NYR</td>\n",
       "      <td>1756</td>\n",
       "      <td>1887</td>\n",
       "      <td>1.07</td>\n",
       "    </tr>\n",
       "    <tr>\n",
       "      <th>3</th>\n",
       "      <td>3</td>\n",
       "      <td>Gordie Howe</td>\n",
       "      <td>DET, HAR</td>\n",
       "      <td>1767</td>\n",
       "      <td>1850</td>\n",
       "      <td>1.05</td>\n",
       "    </tr>\n",
       "    <tr>\n",
       "      <th>4</th>\n",
       "      <td>4</td>\n",
       "      <td>Ron Francis</td>\n",
       "      <td>HAR, PIT, CAR, TOR</td>\n",
       "      <td>1731</td>\n",
       "      <td>1798</td>\n",
       "      <td>1.04</td>\n",
       "    </tr>\n",
       "    <tr>\n",
       "      <th>5</th>\n",
       "      <td>5</td>\n",
       "      <td>Marcel Dionne</td>\n",
       "      <td>DET, LAK, NYR</td>\n",
       "      <td>1348</td>\n",
       "      <td>1771</td>\n",
       "      <td>1.31</td>\n",
       "    </tr>\n",
       "    <tr>\n",
       "      <th>6</th>\n",
       "      <td>6</td>\n",
       "      <td>Steve Yzerman</td>\n",
       "      <td>DET</td>\n",
       "      <td>1514</td>\n",
       "      <td>1755</td>\n",
       "      <td>1.16</td>\n",
       "    </tr>\n",
       "    <tr>\n",
       "      <th>7</th>\n",
       "      <td>7</td>\n",
       "      <td>Mario Lemieux</td>\n",
       "      <td>PIT</td>\n",
       "      <td>915</td>\n",
       "      <td>1723</td>\n",
       "      <td>1.88</td>\n",
       "    </tr>\n",
       "    <tr>\n",
       "      <th>8</th>\n",
       "      <td>8</td>\n",
       "      <td>Joe Sakic</td>\n",
       "      <td>QUE, COL</td>\n",
       "      <td>1378</td>\n",
       "      <td>1641</td>\n",
       "      <td>1.19</td>\n",
       "    </tr>\n",
       "    <tr>\n",
       "      <th>9</th>\n",
       "      <td>9</td>\n",
       "      <td>Phil Esposito</td>\n",
       "      <td>CHI, BOS, NYR</td>\n",
       "      <td>1282</td>\n",
       "      <td>1590</td>\n",
       "      <td>1.24</td>\n",
       "    </tr>\n",
       "    <tr>\n",
       "      <th>10</th>\n",
       "      <td>10</td>\n",
       "      <td>Ray Bourque (D)</td>\n",
       "      <td>BOS, COL</td>\n",
       "      <td>1612</td>\n",
       "      <td>1579</td>\n",
       "      <td>0.98</td>\n",
       "    </tr>\n",
       "  </tbody>\n",
       "</table>\n",
       "</div>"
      ],
      "text/plain": [
       "    Rank             Name             Team(s)    GP   Pts   PPG\n",
       "1      1    Wayne Gretzky  EDM, LAK, STL, NYR  1487  2857  1.92\n",
       "2      2     Mark Messier  EDM, NYR, VAN, NYR  1756  1887  1.07\n",
       "3      3      Gordie Howe            DET, HAR  1767  1850  1.05\n",
       "4      4      Ron Francis  HAR, PIT, CAR, TOR  1731  1798  1.04\n",
       "5      5    Marcel Dionne       DET, LAK, NYR  1348  1771  1.31\n",
       "6      6    Steve Yzerman                 DET  1514  1755  1.16\n",
       "7      7    Mario Lemieux                 PIT   915  1723  1.88\n",
       "8      8        Joe Sakic            QUE, COL  1378  1641  1.19\n",
       "9      9    Phil Esposito       CHI, BOS, NYR  1282  1590  1.24\n",
       "10    10  Ray Bourque (D)            BOS, COL  1612  1579  0.98"
      ]
     },
     "execution_count": 451,
     "metadata": {},
     "output_type": "execute_result"
    }
   ],
   "source": [
    "df = pd.DataFrame(stacked_items_names, columns=headers, index=ranks) # feeding pandas a few lists\n",
    "df"
   ]
  },
  {
   "cell_type": "code",
   "execution_count": 311,
   "metadata": {
    "collapsed": false
   },
   "outputs": [
    {
     "data": {
      "text/plain": [
       "Rank         int64\n",
       "Name        object\n",
       "Team(s)     object\n",
       "GP           int64\n",
       "Pts          int64\n",
       "PPG        float64\n",
       "dtype: object"
      ]
     },
     "execution_count": 311,
     "metadata": {},
     "output_type": "execute_result"
    }
   ],
   "source": [
    "df.dtypes\n",
    "#df.dropna() # drop rows with missing values (does nothing becuase we have no missing values)\n",
    "#df.dropna(axis=1) # drop columns \"...\"\n",
    "#df.fillna(__).astype(int) # fills NaN with integer type number __"
   ]
  },
  {
   "cell_type": "code",
   "execution_count": 312,
   "metadata": {
    "collapsed": false
   },
   "outputs": [
    {
     "data": {
      "text/html": [
       "<div>\n",
       "<table border=\"1\" class=\"dataframe\">\n",
       "  <thead>\n",
       "    <tr style=\"text-align: right;\">\n",
       "      <th></th>\n",
       "      <th>Rank</th>\n",
       "      <th>GP</th>\n",
       "      <th>Pts</th>\n",
       "      <th>PPG</th>\n",
       "    </tr>\n",
       "  </thead>\n",
       "  <tbody>\n",
       "    <tr>\n",
       "      <th>count</th>\n",
       "      <td>10.00000</td>\n",
       "      <td>10.000000</td>\n",
       "      <td>10.00000</td>\n",
       "      <td>10.000000</td>\n",
       "    </tr>\n",
       "    <tr>\n",
       "      <th>mean</th>\n",
       "      <td>5.50000</td>\n",
       "      <td>1479.000000</td>\n",
       "      <td>1845.10000</td>\n",
       "      <td>1.284000</td>\n",
       "    </tr>\n",
       "    <tr>\n",
       "      <th>std</th>\n",
       "      <td>3.02765</td>\n",
       "      <td>263.822752</td>\n",
       "      <td>370.28501</td>\n",
       "      <td>0.339778</td>\n",
       "    </tr>\n",
       "    <tr>\n",
       "      <th>min</th>\n",
       "      <td>1.00000</td>\n",
       "      <td>915.000000</td>\n",
       "      <td>1579.00000</td>\n",
       "      <td>0.980000</td>\n",
       "    </tr>\n",
       "    <tr>\n",
       "      <th>25%</th>\n",
       "      <td>3.25000</td>\n",
       "      <td>1355.500000</td>\n",
       "      <td>1661.50000</td>\n",
       "      <td>1.055000</td>\n",
       "    </tr>\n",
       "    <tr>\n",
       "      <th>50%</th>\n",
       "      <td>5.50000</td>\n",
       "      <td>1500.500000</td>\n",
       "      <td>1763.00000</td>\n",
       "      <td>1.175000</td>\n",
       "    </tr>\n",
       "    <tr>\n",
       "      <th>75%</th>\n",
       "      <td>7.75000</td>\n",
       "      <td>1701.250000</td>\n",
       "      <td>1837.00000</td>\n",
       "      <td>1.292500</td>\n",
       "    </tr>\n",
       "    <tr>\n",
       "      <th>max</th>\n",
       "      <td>10.00000</td>\n",
       "      <td>1767.000000</td>\n",
       "      <td>2857.00000</td>\n",
       "      <td>1.920000</td>\n",
       "    </tr>\n",
       "  </tbody>\n",
       "</table>\n",
       "</div>"
      ],
      "text/plain": [
       "           Rank           GP         Pts        PPG\n",
       "count  10.00000    10.000000    10.00000  10.000000\n",
       "mean    5.50000  1479.000000  1845.10000   1.284000\n",
       "std     3.02765   263.822752   370.28501   0.339778\n",
       "min     1.00000   915.000000  1579.00000   0.980000\n",
       "25%     3.25000  1355.500000  1661.50000   1.055000\n",
       "50%     5.50000  1500.500000  1763.00000   1.175000\n",
       "75%     7.75000  1701.250000  1837.00000   1.292500\n",
       "max    10.00000  1767.000000  2857.00000   1.920000"
      ]
     },
     "execution_count": 312,
     "metadata": {},
     "output_type": "execute_result"
    }
   ],
   "source": [
    "df.describe()"
   ]
  },
  {
   "cell_type": "code",
   "execution_count": 313,
   "metadata": {
    "collapsed": false
   },
   "outputs": [
    {
     "data": {
      "text/plain": [
       "array([[1, 'Wayne Gretzky', 'EDM, LAK, STL, NYR', 1487, 2857, 1.92],\n",
       "       [2, 'Mark Messier', 'EDM, NYR, VAN, NYR', 1756, 1887, 1.07],\n",
       "       [3, 'Gordie Howe', 'DET, HAR', 1767, 1850, 1.05],\n",
       "       [4, 'Ron Francis', 'HAR, PIT, CAR, TOR', 1731, 1798, 1.04],\n",
       "       [5, 'Marcel Dionne', 'DET, LAK, NYR', 1348, 1771, 1.31],\n",
       "       [6, 'Steve Yzerman', 'DET', 1514, 1755, 1.16],\n",
       "       [7, 'Mario Lemieux', 'PIT', 915, 1723, 1.88],\n",
       "       [8, 'Joe Sakic', 'QUE, COL', 1378, 1641, 1.19],\n",
       "       [9, 'Phil Esposito', 'CHI, BOS, NYR', 1282, 1590, 1.24],\n",
       "       [10, 'Ray Bourque (D)', 'BOS, COL', 1612, 1579, 0.98]], dtype=object)"
      ]
     },
     "execution_count": 313,
     "metadata": {},
     "output_type": "execute_result"
    }
   ],
   "source": [
    "df.values"
   ]
  },
  {
   "cell_type": "code",
   "execution_count": 314,
   "metadata": {
    "collapsed": false
   },
   "outputs": [
    {
     "data": {
      "text/plain": [
       "numpy.ndarray"
      ]
     },
     "execution_count": 314,
     "metadata": {},
     "output_type": "execute_result"
    }
   ],
   "source": [
    "type(df.values) # this is a NumPy type (i.e., pandas is built on numpy)"
   ]
  },
  {
   "cell_type": "code",
   "execution_count": 315,
   "metadata": {
    "collapsed": false
   },
   "outputs": [
    {
     "name": "stdout",
     "output_type": "stream",
     "text": [
      "0    2857\n",
      "1    1887\n",
      "2    1850\n",
      "3    1798\n",
      "4    1771\n",
      "5    1755\n",
      "6    1723\n",
      "7    1641\n",
      "8    1590\n",
      "9    1579\n",
      "Name: Pts, dtype: int64\n",
      "mean= 1845.1\n",
      "\n",
      "Rank      2.872281\n",
      "GP      250.284238\n",
      "Pts     351.283205\n",
      "PPG       0.322341\n",
      "dtype: float64\n"
     ]
    }
   ],
   "source": [
    "print(df.Pts)\n",
    "print(\"mean=\",np.mean(df.Pts))\n",
    "print()\n",
    "print(np.std(df)) # standard deviation!"
   ]
  },
  {
   "cell_type": "code",
   "execution_count": 316,
   "metadata": {
    "collapsed": false
   },
   "outputs": [
    {
     "data": {
      "text/plain": [
       "0    1487\n",
       "1    1756\n",
       "2    1767\n",
       "3    1731\n",
       "4    1348\n",
       "5    1514\n",
       "6     915\n",
       "7    1378\n",
       "8    1282\n",
       "9    1612\n",
       "Name: GP, dtype: int64"
      ]
     },
     "execution_count": 316,
     "metadata": {},
     "output_type": "execute_result"
    }
   ],
   "source": [
    "df[\"GP\"] # this 'dictionary syntax' is equivalent to df.GP"
   ]
  },
  {
   "cell_type": "code",
   "execution_count": 320,
   "metadata": {
    "collapsed": false
   },
   "outputs": [
    {
     "data": {
      "text/plain": [
       "'Wayne Gretzky'"
      ]
     },
     "execution_count": 320,
     "metadata": {},
     "output_type": "execute_result"
    }
   ],
   "source": [
    "df.Name[0]"
   ]
  },
  {
   "cell_type": "code",
   "execution_count": 331,
   "metadata": {
    "collapsed": false
   },
   "outputs": [
    {
     "data": {
      "text/plain": [
       "Rank                        1\n",
       "Name            Wayne Gretzky\n",
       "Team(s)    EDM, LAK, STL, NYR\n",
       "GP                       1487\n",
       "Pts                      2857\n",
       "PPG                      1.92\n",
       "Name: 1, dtype: object"
      ]
     },
     "execution_count": 331,
     "metadata": {},
     "output_type": "execute_result"
    }
   ],
   "source": [
    "df.loc[1] # output would be same as seen below usin iloc\n",
    "df.iloc[0] # note that df.ix[__] is a hybrid of .loc and .iloc"
   ]
  },
  {
   "cell_type": "code",
   "execution_count": 452,
   "metadata": {
    "collapsed": false
   },
   "outputs": [
    {
     "name": "stdout",
     "output_type": "stream",
     "text": [
      "Ray Bourque\n",
      "['Wayne Gretzky', 'Mark Messier', 'Gordie Howe', 'Ron Francis', 'Marcel Dionne', 'Steve Yzerman', 'Mario Lemieux', 'Joe Sakic', 'Phil Esposito', 'Ray Bourque']\n"
     ]
    }
   ],
   "source": [
    "allplayers = len(players)+1\n",
    "players = []\n",
    "for i in range(1,allplayers):\n",
    "    name = df.loc[i,\"Name\"]\n",
    "    if name[-3:] == \"(D)\": # if true, fix the string\n",
    "        df.loc[i,\"Name\"] = name[:-4]\n",
    "        print(df.loc[i,\"Name\"])\n",
    "    players.append(df.loc[i,\"Name\"])\n",
    "print(players)"
   ]
  },
  {
   "cell_type": "code",
   "execution_count": 453,
   "metadata": {
    "collapsed": false
   },
   "outputs": [
    {
     "name": "stdout",
     "output_type": "stream",
     "text": [
      "Wayne Gretzky has an average of 1.92 points per game.\n",
      "Mark Messier has an average of 1.07 points per game.\n",
      "Gordie Howe has an average of 1.05 points per game.\n",
      "Ron Francis has an average of 1.04 points per game.\n",
      "Marcel Dionne has an average of 1.31 points per game.\n",
      "Steve Yzerman has an average of 1.16 points per game.\n",
      "Mario Lemieux has an average of 1.88 points per game.\n",
      "Joe Sakic has an average of 1.19 points per game.\n",
      "Phil Esposito has an average of 1.24 points per game.\n",
      "Ray Bourque has an average of 0.98 points per game.\n"
     ]
    }
   ],
   "source": [
    "def get_ppg(row):\n",
    "    print(df.loc[row,\"Name\"],\"has an average of\",df.loc[row,\"PPG\"],\"points per game.\")\n",
    "\n",
    "i=1\n",
    "for player in players:\n",
    "    get_ppg(i)\n",
    "    i += 1"
   ]
  },
  {
   "cell_type": "code",
   "execution_count": 746,
   "metadata": {
    "collapsed": false
   },
   "outputs": [
    {
     "name": "stdout",
     "output_type": "stream",
     "text": [
      "                        Name             Team(s)  Games played  Points\n",
      "Wayne Gretzky  Wayne Gretzky  EDM, LAK, STL, NYR          1487    2857\n",
      "Mark Messier    Mark Messier  EDM, NYR, VAN, NYR          1756    1887\n",
      "Gordie Howe      Gordie Howe            DET, HAR          1767    1850\n",
      "Ron Francis      Ron Francis  HAR, PIT, CAR, TOR          1731    1798\n",
      "Marcel Dionne  Marcel Dionne       DET, LAK, NYR          1348    1771\n",
      "Steve Yzerman  Steve Yzerman                 DET          1514    1755\n",
      "Mario Lemieux  Mario Lemieux                 PIT           915    1723\n",
      "Joe Sakic          Joe Sakic            QUE, COL          1378    1641\n",
      "Phil Esposito  Phil Esposito       CHI, BOS, NYR          1282    1590\n",
      "Ray Bourque      Ray Bourque            BOS, COL          1612    1579\n"
     ]
    },
    {
     "data": {
      "text/plain": [
       "<matplotlib.legend.Legend at 0x151f82f3518>"
      ]
     },
     "execution_count": 746,
     "metadata": {},
     "output_type": "execute_result"
    },
    {
     "data": {
      "image/png": "[encoded data removed]",
      "text/plain": [
       "<matplotlib.figure.Figure at 0x151f59b6e80>"
      ]
     },
     "metadata": {},
     "output_type": "display_data"
    }
   ],
   "source": [
    "\"\"\"change the format of our dataframe to be more conducive to plotting\"\"\"\n",
    "dfplot1 = df.drop([\"PPG\",\"Rank\"], axis=1)\n",
    "dfplot1 = dfplot1.rename(columns={'GP':'Games played','Pts':'Points'})\n",
    "dfplot1.index = players\n",
    "print(dfplot1)\n",
    "\n",
    "bar1 = dfplot1.plot(kind=\"barh\", figsize=(10,5), colormap=(\"copper\"), alpha=0.6, fontsize=12)\n",
    "plt.xlabel(\"Total career statistics\", fontsize=13, labelpad=10)\n",
    "plt.title(\"Top 10 Canadian point scorers in the NHL\", fontsize=15, y=1.04, x=0.45)\n",
    "\n",
    "handles, labels = bar1.get_legend_handles_labels()\n",
    "plt.legend(handles[::-1], labels[::-1]) # swap the legend ordering from the default for consistency"
   ]
  },
  {
   "cell_type": "code",
   "execution_count": 720,
   "metadata": {
    "collapsed": false,
    "scrolled": true
   },
   "outputs": [
    {
     "name": "stdout",
     "output_type": "stream",
     "text": [
      "['Canada', 'Czech Republic', 'Slovakia', 'Finland', 'United States', 'Sweden', 'Russia', 'United Kingdom', 'Ukraine', 'Serbia', 'Germany', 'France', 'Slovenia', 'Austria', 'Lithuania', 'Latvia', 'Kazakhstan', 'Paraguay', 'Poland', 'Switzerland', 'Republic of China (Taiwan)', 'Denmark', 'South Korea', 'Belarus', 'Netherlands', 'Brazil', 'Brunei', 'Norway', 'Venezuela', 'Italy', 'Haiti', 'Estonia'] \n",
      "\n",
      "['Wayne Gretzky', 'Jaromir Jagr*', 'Stan Mikita', 'Teemu Selanne', 'Mike Modano', 'Mats Sundin', 'Sergei Fedorov', 'Steve Thomas', 'Peter Bondra', 'Ivan Boldirev', 'Dany Heatley', 'Paul MacLean', 'Anze Kopitar*', 'Thomas Vanek*', 'Dainius Zubrus', 'Sandis Ozolinsh', 'Nik Antropov', 'Willi Plett', 'Mariusz Czerkawski', 'Mark Streit', 'Rod Langway', 'Frans Nielsen*', 'Richard Park', 'Andrei Kostitsyn', 'Ed Beers', 'Robyn Regehr', 'Craig Adams', 'Mats Zuccarello*', 'Rick Chartraw', 'Luca Sbisa', 'Claude Vilgrain', 'Leo Komarov*'] \n",
      "\n",
      "[1487, 1550, 1394, 1451, 1499, 1346, 1248, 1235, 1081, 1052, 869, 719, 683, 743, 1243, 875, 788, 834, 745, 654, 994, 525, 738, 398, 250, 1090, 951, 222, 420, 342, 89, 104] \n",
      "\n",
      "[2857, 1802, 1467, 1457, 1374, 1349, 1179, 933, 892, 866, 791, 673, 610, 608, 584, 564, 465, 437, 435, 384, 329, 297, 241, 222, 210, 199, 160, 142, 92, 67, 53, 35] \n",
      "\n"
     ]
    }
   ],
   "source": [
    "top_number = 32\n",
    "country_names = [soup.find_all(\"h3\")[i].get_text()[:-6] for i in range(0, top_number)]\n",
    "print(country_names, \"\\n\")\n",
    "country_tables = [soup.find_all(\"table\")[i] for i in range(2, 2+top_number)]\n",
    "\n",
    "\"\"\"now let's get the top player from each country\"\"\"\n",
    "names = [country_tables[i].find_all(\"td\")[0].get_text() for i in range(len(country_tables))]\n",
    "still_active = ['Jaromir Jagr', 'Anze Kopitar', 'Thomas Vanek', 'Frans Nielsen', 'Mats Zuccarello', 'Leo Komarov']\n",
    "i = 0\n",
    "for name in names: # fix the names\n",
    "    if \"(D)\" in name:\n",
    "        names[i] = name[:-4]\n",
    "        #print(\"fixed\",name)\n",
    "    if \"[\" in name:\n",
    "        names[i] = name[:name.index(\"[\")]\n",
    "        #print(\"fixed\",name)\n",
    "    if names[i] in still_active:\n",
    "        names[i] = names[i]+\"*\"\n",
    "    i += 1\n",
    "print(names, \"\\n\")\n",
    "\n",
    "GP = [int(replace_comma(country_tables[i].find_all(\"td\")[2].get_text())) for i in range(len(country_tables))]\n",
    "print(GP, \"\\n\")\n",
    "\n",
    "Pts = [int(replace_comma(country_tables[i].find_all(\"td\")[3].get_text())) for i in range(len(country_tables))]\n",
    "print(Pts, \"\\n\")"
   ]
  },
  {
   "cell_type": "code",
   "execution_count": 745,
   "metadata": {
    "collapsed": false,
    "scrolled": false
   },
   "outputs": [
    {
     "data": {
      "text/plain": [
       "<matplotlib.legend.Legend at 0x151f740e940>"
      ]
     },
     "execution_count": 745,
     "metadata": {},
     "output_type": "execute_result"
    },
    {
     "data": {
      "image/png": "[encoded data removed]",
      "text/plain": [
       "<matplotlib.figure.Figure at 0x151f788e828>"
      ]
     },
     "metadata": {},
     "output_type": "display_data"
    }
   ],
   "source": [
    "#i = 0\n",
    "#df2_index = []\n",
    "#for i in range(0,len(names)):\n",
    "#    df2_index.append('{0:<15}{1:>15}'.format(country_names[i],names[i]))\n",
    "#    print(df2_index[i])\n",
    "#    i += 1\n",
    "\n",
    "all_stacked_items = list(zip(GP, Pts, country_names))\n",
    "#print(all_stacked_items, \"\\n\")\n",
    "df2 = pd.DataFrame(all_stacked_items, index=names, columns=[\"Games played\", \"Points\", \"Country\"])\n",
    "#df2 = df2.drop([\"Dany Heatley\", \"Rod Langway\", \"Ed Beers\"]) # these players were raised in North America\n",
    "#print(df2)\n",
    "\n",
    "bar2 = df2.plot(kind=\"barh\", figsize=(13,10), colormap=(\"copper\"), alpha=0.6, fontsize=12)\n",
    "plt.xlabel(\"Total career statistics\", fontsize=15, labelpad=15)\n",
    "plt.title(\"Leading NHL point scorers from each country\", fontsize=17, y=1.03, x=0.45)\n",
    "plt.xlim(0,3100)\n",
    "\n",
    "rects = bar2.patches\n",
    "half_recs = int(len(rects)/2)\n",
    "rec1 = [rects[i] for i in range(half_recs)]\n",
    "rec2 = [rects[i] for i in range(half_recs,half_recs*2)]\n",
    "i = 0\n",
    "for country in country_names:\n",
    "    x_position = max(rec1[i].get_width(), rec2[i].get_width())\n",
    "    x_space = 20 # hard-coded extra spacing\n",
    "    bar2.text(x_position+x_space, rec1[i].get_y()-rec1[i].get_height()/2 , country, ha='left',  va='bottom')\n",
    "    i += 1\n",
    "    \n",
    "\n",
    "handles, labels = bar2.get_legend_handles_labels()\n",
    "plt.legend(handles[::-1], labels[::-1]) # swap the legend ordering from the default for consistency"
   ]
  },
  {
   "cell_type": "code",
   "execution_count": 782,
   "metadata": {
    "collapsed": false
   },
   "outputs": [
    {
     "name": "stdout",
     "output_type": "stream",
     "text": [
      "Plotting country index # 3 : Czech Republic\n",
      "Plotting country index # 5 : Finland\n",
      "Plotting country index # 6 : United States\n",
      "Plotting country index # 7 : Sweden\n",
      "Plotting country index # 8 : Russia\n"
     ]
    },
    {
     "data": {
      "image/png": "[encoded data removed]",
      "text/plain": [
       "<matplotlib.figure.Figure at 0x151fb089780>"
      ]
     },
     "metadata": {},
     "output_type": "display_data"
    },
    {
     "data": {
      "image/png": "[encoded data removed]",
      "text/plain": [
       "<matplotlib.figure.Figure at 0x151fad22e10>"
      ]
     },
     "metadata": {},
     "output_type": "display_data"
    },
    {
     "data": {
      "image/png": "[encoded data removed]",
      "text/plain": [
       "<matplotlib.figure.Figure at 0x151f83b4e48>"
      ]
     },
     "metadata": {},
     "output_type": "display_data"
    },
    {
     "data": {
      "image/png": "[encoded data removed]",
      "text/plain": [
       "<matplotlib.figure.Figure at 0x151f99c3518>"
      ]
     },
     "metadata": {},
     "output_type": "display_data"
    },
    {
     "data": {
      "image/png": "[encoded data removed]",
      "text/plain": [
       "<matplotlib.figure.Figure at 0x151f84786a0>"
      ]
     },
     "metadata": {},
     "output_type": "display_data"
    }
   ],
   "source": [
    "\"\"\"create a function that can be used to plot any team\"\"\"\n",
    "def NHLtop10(country):\n",
    "    \n",
    "    replace_comma = lambda s: s.replace(\",\",\"\")\n",
    "    \n",
    "    country_index = country_names.index(country)+2 # add two in oder to skip the other tables\n",
    "    print(\"Plotting country index #\", country_index, \":\", country)\n",
    "    \n",
    "    table = soup.find_all(\"table\")[country_index]\n",
    "    rows = [row for row in table.find_all(\"tr\")]\n",
    "    headers = rows[0].get_text().splitlines()\n",
    "    headers = headers[1:]\n",
    "    \n",
    "    items = [value.get_text() for row in rows for value in row.find_all(\"td\")]\n",
    "    players = items[0::5]\n",
    "    ranks = [[i+1 for i in range(0,len(players))]]\n",
    "    \n",
    "    values = ranks+[items[i::5] for i in range(0,len(headers)-1)]\n",
    "    for j in range(3,5):\n",
    "        for i in range(0,len(players)):\n",
    "            values[j][i] = int(replace_comma(values[j][i]))\n",
    "    for i in range(0,len(players)):\n",
    "        values[5][i] = float(values[5][i])\n",
    "    stacked_items_names = list(zip(*values))\n",
    "    \n",
    "    i = 0\n",
    "    for name in players: # fix the names\n",
    "        if \"(D)\" in name:\n",
    "            players[i] = name[:-4]\n",
    "        if \"[\" in name:\n",
    "            players[i] = name[:name.index(\"[\")]\n",
    "#        if names[i] in still_active:\n",
    "#            names[i] = names[i]+\"*\"\n",
    "        i += 1\n",
    "    \n",
    "    df = pd.DataFrame(stacked_items_names, columns=headers, index=ranks)\n",
    "\n",
    "    \"\"\"change the format of our dataframe to be more conducive to plotting\"\"\"\n",
    "    dfplot1 = df.drop([\"PPG\",\"Rank\"], axis=1)\n",
    "    dfplot1 = dfplot1.rename(columns={'GP':'Games played','Pts':'Points'})\n",
    "    dfplot1.index = players\n",
    "\n",
    "    bar1 = dfplot1.plot(kind=\"barh\", figsize=(10,5), colormap=(\"copper\"), alpha=0.6, fontsize=12)\n",
    "    plt.xlabel(\"Total career statistics\", fontsize=13, labelpad=10)\n",
    "    plt.title(\"Top point scorers in the NHL from {}\".format(country), fontsize=15, y=1.04, x=0.45)\n",
    "\n",
    "    handles, labels = bar1.get_legend_handles_labels()\n",
    "    plt.legend(handles[::-1], labels[::-1]) # swap the legend ordering from the default for consistency\n",
    "    \n",
    "NHLtop10(\"Czech Republic\")\n",
    "NHLtop10(\"Finland\")\n",
    "NHLtop10(\"United States\")\n",
    "NHLtop10(\"Sweden\")\n",
    "NHLtop10(\"Russia\")"
   ]
  },
  {
   "cell_type": "code",
   "execution_count": 767,
   "metadata": {
    "collapsed": false
   },
   "outputs": [
    {
     "data": {
      "text/plain": [
       "['Canada',\n",
       " 'Czech Republic',\n",
       " 'Slovakia',\n",
       " 'Finland',\n",
       " 'United States',\n",
       " 'Sweden',\n",
       " 'Russia',\n",
       " 'United Kingdom',\n",
       " 'Ukraine',\n",
       " 'Serbia',\n",
       " 'Germany',\n",
       " 'France',\n",
       " 'Slovenia',\n",
       " 'Austria',\n",
       " 'Lithuania',\n",
       " 'Latvia',\n",
       " 'Kazakhstan',\n",
       " 'Paraguay',\n",
       " 'Poland',\n",
       " 'Switzerland',\n",
       " 'Republic of China (Taiwan)',\n",
       " 'Denmark',\n",
       " 'South Korea',\n",
       " 'Belarus',\n",
       " 'Netherlands',\n",
       " 'Brazil',\n",
       " 'Brunei',\n",
       " 'Norway',\n",
       " 'Venezuela',\n",
       " 'Italy',\n",
       " 'Haiti',\n",
       " 'Estonia']"
      ]
     },
     "execution_count": 767,
     "metadata": {},
     "output_type": "execute_result"
    }
   ],
   "source": [
    "country_names"
   ]
  },
  {
   "cell_type": "code",
   "execution_count": null,
   "metadata": {
    "collapsed": true
   },
   "outputs": [],
   "source": []
  }
 ],
 "metadata": {
  "kernelspec": {
   "display_name": "Python 3",
   "language": "python",
   "name": "python3"
  },
  "language_info": {
   "codemirror_mode": {
    "name": "ipython",
    "version": 3
   },
   "file_extension": ".py",
   "mimetype": "text/x-python",
   "name": "python",
   "nbconvert_exporter": "python",
   "pygments_lexer": "ipython3",
   "version": "3.5.1"
  }
 },
 "nbformat": 4,
 "nbformat_minor": 0
}
