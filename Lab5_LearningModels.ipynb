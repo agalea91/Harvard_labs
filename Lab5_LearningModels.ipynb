{
 "cells": [
  {
   "cell_type": "code",
   "execution_count": 1,
   "metadata": {
    "collapsed": true
   },
   "outputs": [],
   "source": [
    "# I need to tell python where my libaraies\n",
    "# are (you probably don't need this)\n",
    "import sys\n",
    "sys.path.append('C:\\Anaconda3\\Lib\\site-packages')\n",
    "\n",
    "%matplotlib inline\n",
    "import numpy as np\n",
    "import scipy as sp\n",
    "import matplotlib as mpl\n",
    "import matplotlib.cm as cm\n",
    "import matplotlib.pyplot as plt\n",
    "import pandas as pd\n",
    "pd.set_option('display.width', 500)\n",
    "pd.set_option('display.max_columns', 100)\n",
    "pd.set_option('display.notebook_repr_html', True)\n",
    "import seaborn as sns\n",
    "sns.set_style(\"whitegrid\",\n",
    "              {'grid.linestyle': '--', 'grid.color': '0.9', 'axes.edgecolor': '0.3'})\n",
    "sns.set_context(\"poster\")\n",
    "from PIL import Image"
   ]
  },
  {
   "cell_type": "code",
   "execution_count": 2,
   "metadata": {
    "collapsed": true
   },
   "outputs": [],
   "source": [
    "def make_simple_plot():\n",
    "    fig, axes=plt.subplots(figsize=(12,5), nrows=1, ncols=2);\n",
    "    axes[0].set_ylabel(\"$y$\")\n",
    "    axes[0].set_xlabel(\"$x$\")\n",
    "    axes[1].set_xlabel(\"$x$\")\n",
    "    axes[1].set_yticklabels([])\n",
    "    axes[0].set_ylim([-2,2])\n",
    "    axes[1].set_ylim([-2,2])\n",
    "    plt.tight_layout();\n",
    "    return axes\n",
    "def make_plot():\n",
    "    fig, axes=plt.subplots(figsize=(20,8), nrows=1, ncols=2);\n",
    "    axes[0].set_ylabel(\"$p_R$\")\n",
    "    axes[0].set_xlabel(\"$x$\")\n",
    "    axes[1].set_xlabel(\"$x$\")\n",
    "    axes[1].set_yticklabels([])\n",
    "    axes[0].set_ylim([0,1])\n",
    "    axes[1].set_ylim([0,1])\n",
    "    axes[0].set_xlim([0,1])\n",
    "    axes[1].set_xlim([0,1])\n",
    "    plt.tight_layout();\n",
    "    return axes"
   ]
  },
  {
   "cell_type": "markdown",
   "metadata": {},
   "source": [
    "Recall the Predictwise probabilities question from two labs back? We learnt how to simulate from the predictwise probabilities."
   ]
  },
  {
   "cell_type": "code",
   "execution_count": null,
   "metadata": {
    "collapsed": true
   },
   "outputs": [],
   "source": []
  }
 ],
 "metadata": {
  "kernelspec": {
   "display_name": "Python 3",
   "language": "python",
   "name": "python3"
  },
  "language_info": {
   "codemirror_mode": {
    "name": "ipython",
    "version": 3
   },
   "file_extension": ".py",
   "mimetype": "text/x-python",
   "name": "python",
   "nbconvert_exporter": "python",
   "pygments_lexer": "ipython3",
   "version": "3.5.1"
  }
 },
 "nbformat": 4,
 "nbformat_minor": 0
}
